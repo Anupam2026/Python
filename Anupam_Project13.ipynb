{
  "nbformat": 4,
  "nbformat_minor": 0,
  "metadata": {
    "colab": {
      "provenance": [],
      "include_colab_link": true
    },
    "kernelspec": {
      "name": "python3",
      "display_name": "Python 3"
    }
  },
  "cells": [
    {
      "cell_type": "markdown",
      "metadata": {
        "id": "view-in-github",
        "colab_type": "text"
      },
      "source": [
        "<a href=\"https://colab.research.google.com/github/Anupam2026/Python/blob/main/Anupam_Project13.ipynb\" target=\"_parent\"><img src=\"https://colab.research.google.com/assets/colab-badge.svg\" alt=\"Open In Colab\"/></a>"
      ]
    },
    {
      "cell_type": "markdown",
      "metadata": {
        "id": "YZnBY81YDCCr"
      },
      "source": [
        "### Instructions"
      ]
    },
    {
      "cell_type": "markdown",
      "metadata": {
        "id": "bEyBzxYRhrLG"
      },
      "source": [
        "#### Goal of the Project\n",
        "\n",
        "This project is designed for you to practice and solve the activities that are based on the concepts covered in the following lessons:\n",
        "\n",
        "  1.  Python List II\n",
        "  3.  Pandas Series"
      ]
    },
    {
      "cell_type": "markdown",
      "metadata": {
        "id": "DPOFIO3EHncO"
      },
      "source": [
        "---"
      ]
    },
    {
      "cell_type": "markdown",
      "metadata": {
        "id": "bu9uYNNMDzC9"
      },
      "source": [
        "#### Getting Started:\n",
        "\n",
        "1. Click on this link to open the Colab file for this project.\n",
        "\n",
        "     https://colab.research.google.com/drive/1RkKhzVNCjkDoO9JEXGHMr0ucDK4kQN5R?usp=sharing\n",
        "     \n",
        "2. Create a duplicate copy of the Colab file as described below.\n",
        "\n",
        "  - Click on the **File menu**. A new drop-down list will appear.\n",
        "\n",
        "   <img src='https://student-datasets-bucket.s3.ap-south-1.amazonaws.com/images/lesson-0/0_file_menu.png' width=500>\n",
        "\n",
        "  - Click on the **Save a copy in Drive** option. A duplicate copy will get created. It will open up in the new tab on your web browser.\n",
        "\n",
        "  <img src='https://student-datasets-bucket.s3.ap-south-1.amazonaws.com/images/lesson-0/1_create_colab_duplicate_copy.png' width=500>\n",
        "\n",
        "3. After creating the duplicate copy of the notebook, please rename it in the **YYYY-MM-DD_StudentName_Project13** format.\n",
        "\n",
        "4. Now, write your code in the prescribed code cells.\n"
      ]
    },
    {
      "cell_type": "markdown",
      "metadata": {
        "id": "8f6-uc0r9Q4h"
      },
      "source": [
        "### Activities"
      ]
    },
    {
      "cell_type": "markdown",
      "metadata": {
        "id": "q4fH06mIjuK3"
      },
      "source": [
        "#### Activity 1.1: Pandas Series containing Random Integers\n",
        "\n",
        "Create a Pandas series containing 40 random integers between 130 and 145. Print this series."
      ]
    },
    {
      "cell_type": "code",
      "metadata": {
        "id": "4EAoTskqg041",
        "outputId": "8078dbb1-829b-4f03-8cc4-610dba73de32",
        "colab": {
          "base_uri": "https://localhost:8080/",
          "height": 738
        }
      },
      "source": [
        "# Create Pandas series\n",
        "import pandas as pd\n",
        "import random\n",
        "list=[random.randint(130,145) for i in range(40)]\n",
        "list2=pd.Series(list)\n",
        "list2"
      ],
      "execution_count": null,
      "outputs": [
        {
          "output_type": "execute_result",
          "data": {
            "text/plain": [
              "0     141\n",
              "1     141\n",
              "2     131\n",
              "3     138\n",
              "4     144\n",
              "5     137\n",
              "6     135\n",
              "7     135\n",
              "8     136\n",
              "9     137\n",
              "10    133\n",
              "11    134\n",
              "12    132\n",
              "13    135\n",
              "14    140\n",
              "15    142\n",
              "16    130\n",
              "17    130\n",
              "18    144\n",
              "19    137\n",
              "20    140\n",
              "21    130\n",
              "22    133\n",
              "23    132\n",
              "24    136\n",
              "25    133\n",
              "26    142\n",
              "27    141\n",
              "28    136\n",
              "29    130\n",
              "30    133\n",
              "31    142\n",
              "32    136\n",
              "33    140\n",
              "34    131\n",
              "35    138\n",
              "36    145\n",
              "37    136\n",
              "38    137\n",
              "39    136\n",
              "dtype: int64"
            ]
          },
          "metadata": {
            "tags": []
          },
          "execution_count": 2
        }
      ]
    },
    {
      "cell_type": "markdown",
      "metadata": {
        "id": "H4JT7cLU21lW"
      },
      "source": [
        "---"
      ]
    },
    {
      "cell_type": "markdown",
      "metadata": {
        "id": "GaClyPgg0QAN"
      },
      "source": [
        "#### Activity 1.2: Calculate Mean and Median\n",
        "\n",
        "Calculate the mean value and median value of the above Pandas series."
      ]
    },
    {
      "cell_type": "code",
      "metadata": {
        "id": "2g8Itdkx0ZX5",
        "outputId": "9443ec74-6034-470b-9c78-9d340ee2ce95",
        "colab": {
          "base_uri": "https://localhost:8080/",
          "height": 34
        }
      },
      "source": [
        "# Calculate the mean and median value\n",
        "list2.mean()"
      ],
      "execution_count": null,
      "outputs": [
        {
          "output_type": "execute_result",
          "data": {
            "text/plain": [
              "136.475"
            ]
          },
          "metadata": {
            "tags": []
          },
          "execution_count": 4
        }
      ]
    },
    {
      "cell_type": "code",
      "metadata": {
        "id": "dBX2dAuo9hdI",
        "outputId": "671e0d57-014b-451f-9b33-25155d6b3d9d",
        "colab": {
          "base_uri": "https://localhost:8080/",
          "height": 34
        }
      },
      "source": [
        "list2.median()"
      ],
      "execution_count": null,
      "outputs": [
        {
          "output_type": "execute_result",
          "data": {
            "text/plain": [
              "136.0"
            ]
          },
          "metadata": {
            "tags": []
          },
          "execution_count": 5
        }
      ]
    },
    {
      "cell_type": "markdown",
      "metadata": {
        "id": "2x82_lCI2yzK"
      },
      "source": [
        "---"
      ]
    },
    {
      "cell_type": "markdown",
      "metadata": {
        "id": "GzfCSkUq18qe"
      },
      "source": [
        "#### Activity 1.3: Find Minimum and Maximum\n",
        "\n",
        "Find the minimum and maximum value in the above Pandas series."
      ]
    },
    {
      "cell_type": "code",
      "metadata": {
        "id": "GOnSoo392Bmu",
        "outputId": "62009202-59a8-4dec-f38b-f85c17bd660d",
        "colab": {
          "base_uri": "https://localhost:8080/",
          "height": 34
        }
      },
      "source": [
        "# Find minimum and maximum value in the above Pandas series\n",
        "list2.max()"
      ],
      "execution_count": null,
      "outputs": [
        {
          "output_type": "execute_result",
          "data": {
            "text/plain": [
              "145"
            ]
          },
          "metadata": {
            "tags": []
          },
          "execution_count": 7
        }
      ]
    },
    {
      "cell_type": "code",
      "metadata": {
        "id": "fGMC6dvy9qto",
        "outputId": "3782fb04-1ee8-4f61-e066-6082a5fb26fc",
        "colab": {
          "base_uri": "https://localhost:8080/",
          "height": 34
        }
      },
      "source": [
        "list2.min()"
      ],
      "execution_count": null,
      "outputs": [
        {
          "output_type": "execute_result",
          "data": {
            "text/plain": [
              "130"
            ]
          },
          "metadata": {
            "tags": []
          },
          "execution_count": 8
        }
      ]
    },
    {
      "cell_type": "markdown",
      "metadata": {
        "id": "--MY5L-z2wFu"
      },
      "source": [
        "---"
      ]
    },
    {
      "cell_type": "markdown",
      "metadata": {
        "id": "yqhCzutD2WQ-"
      },
      "source": [
        "#### Activity 1.4: Arrange in Descending Order\n",
        "\n",
        "Arrange the values in descending order and print the last five rows of the series."
      ]
    },
    {
      "cell_type": "code",
      "metadata": {
        "id": "4c70mF7Y2dID",
        "outputId": "304f4397-7a70-41af-e2e6-3f8dfdeb1e4f",
        "colab": {
          "base_uri": "https://localhost:8080/",
          "height": 844
        }
      },
      "source": [
        "# Arrange the values in descending order and print the last five rows\n",
        "list2.sort_values(ascending=True)\n",
        "print(list2)\n",
        "list2.tail()"
      ],
      "execution_count": null,
      "outputs": [
        {
          "output_type": "stream",
          "text": [
            "0     141\n",
            "1     141\n",
            "2     131\n",
            "3     138\n",
            "4     144\n",
            "5     137\n",
            "6     135\n",
            "7     135\n",
            "8     136\n",
            "9     137\n",
            "10    133\n",
            "11    134\n",
            "12    132\n",
            "13    135\n",
            "14    140\n",
            "15    142\n",
            "16    130\n",
            "17    130\n",
            "18    144\n",
            "19    137\n",
            "20    140\n",
            "21    130\n",
            "22    133\n",
            "23    132\n",
            "24    136\n",
            "25    133\n",
            "26    142\n",
            "27    141\n",
            "28    136\n",
            "29    130\n",
            "30    133\n",
            "31    142\n",
            "32    136\n",
            "33    140\n",
            "34    131\n",
            "35    138\n",
            "36    145\n",
            "37    136\n",
            "38    137\n",
            "39    136\n",
            "dtype: int64\n"
          ],
          "name": "stdout"
        },
        {
          "output_type": "execute_result",
          "data": {
            "text/plain": [
              "35    138\n",
              "36    145\n",
              "37    136\n",
              "38    137\n",
              "39    136\n",
              "dtype: int64"
            ]
          },
          "metadata": {
            "tags": []
          },
          "execution_count": 9
        }
      ]
    },
    {
      "cell_type": "code",
      "metadata": {
        "id": "54-oBIfv-Ywq",
        "outputId": "11a7677b-60bd-42cc-dc37-251df0af4875",
        "colab": {
          "base_uri": "https://localhost:8080/",
          "height": 122
        }
      },
      "source": [
        "list2[35:]"
      ],
      "execution_count": null,
      "outputs": [
        {
          "output_type": "execute_result",
          "data": {
            "text/plain": [
              "35    138\n",
              "36    145\n",
              "37    136\n",
              "38    137\n",
              "39    136\n",
              "dtype: int64"
            ]
          },
          "metadata": {
            "tags": []
          },
          "execution_count": 10
        }
      ]
    },
    {
      "cell_type": "markdown",
      "metadata": {
        "id": "xJlPs9X9oeRw"
      },
      "source": [
        "---"
      ]
    },
    {
      "cell_type": "markdown",
      "metadata": {
        "id": "b4aeCDi0pkJz"
      },
      "source": [
        "#### Activity 2: Find whether Two Lines are Parallel\n",
        "\n",
        "Given two lines, determine whether they are parallel or not.\n",
        "Lines are represented using a list [a, b, c] which corresponds to the straight line $ax+by=c$.\n",
        "\n",
        "\n",
        "\n",
        "**Hints:**\n",
        "- Two lines are parallel if their slopes are equal.\n",
        "\n",
        "- A line in the form of $ax+by=c$ has slope $\\frac {-a}{b}$.\n",
        "- Ignore the minus (-) sign. Just calculate $\\frac {a}{b}$ for both lines and find out whether they are equal or not.\n",
        "\n",
        "\n",
        "**Example:**\n",
        "```\n",
        "line1 = [2,3,4]\n",
        "line2 = [4,6,8]\n",
        "\n",
        "Are lines parallel?\n",
        "True\n",
        "```\n",
        ""
      ]
    },
    {
      "cell_type": "code",
      "metadata": {
        "id": "d5ufKLNYzsIl",
        "outputId": "5be025f6-bd6f-440e-9e13-88321bcc68bc",
        "colab": {
          "base_uri": "https://localhost:8080/",
          "height": 34
        }
      },
      "source": [
        "# Two lines are parallel or not\n",
        "line1=[2,3,4]\n",
        "line2=[4,6,8]\n",
        "slope1=line1[0]/line1[1]\n",
        "slope2=line2[0]/line2[1]\n",
        "if slope1==slope2:\n",
        "  print(True)\n",
        "else :\n",
        "  print(False)"
      ],
      "execution_count": null,
      "outputs": [
        {
          "output_type": "stream",
          "text": [
            "True\n"
          ],
          "name": "stdout"
        }
      ]
    },
    {
      "cell_type": "code",
      "metadata": {
        "id": "DbJUh5bnADsg",
        "outputId": "e17ed1a2-9495-471b-a8b0-7a1b54120385",
        "colab": {
          "base_uri": "https://localhost:8080/",
          "height": 34
        }
      },
      "source": [
        "# Two lines are parallel or not\n",
        "line1=[2,8,4]\n",
        "line2=[4,6,8]\n",
        "slope1=line1[0]/line1[1]\n",
        "slope2=line2[0]/line2[1]\n",
        "if slope1==slope2:\n",
        "  print(True)\n",
        "else :\n",
        "  print(False)"
      ],
      "execution_count": null,
      "outputs": [
        {
          "output_type": "stream",
          "text": [
            "False\n"
          ],
          "name": "stdout"
        }
      ]
    },
    {
      "cell_type": "markdown",
      "metadata": {
        "id": "HSz7jRSlGxIO"
      },
      "source": [
        "---"
      ]
    },
    {
      "cell_type": "markdown",
      "metadata": {
        "id": "1rBGksduD8Fe"
      },
      "source": [
        "### How To Submit The Project\n",
        "\n",
        "Follow the steps described below to submit the project.\n",
        "1. After finishing the project, click on the **Share** button on the top right corner of the notebook. A new dialog box will appear.\n",
        "  <img src='https://student-datasets-bucket.s3.ap-south-1.amazonaws.com/images/project-share-images/2_share_button.png' width=500>\n",
        "2. In the dialog box, click on the **Copy link** button. Make sure that '**Anyone on the Internet with this link can view**' option is selected and then click on the **Copy link** button.\n",
        "\n",
        "   <img src='https://student-datasets-bucket.s3.ap-south-1.amazonaws.com/images/project-share-images/3_copy_link.png' width=500>\n",
        "3. The link of the duplicate copy (named as **YYYY-MM-DD_StudentName_Project13**) of the notebook will get copied\n",
        "   <img src='https://student-datasets-bucket.s3.ap-south-1.amazonaws.com/images/project-share-images/4_copy_link_confirmation.png' width=500>\n",
        "4. Go to your dashboard and click on the **My Projects** option.\n",
        "   <img src='https://student-datasets-bucket.s3.ap-south-1.amazonaws.com/images/project-share-images/5_student_dashboard.png' width=800>\n",
        "   <img src='https://student-datasets-bucket.s3.ap-south-1.amazonaws.com/images/project-share-images/6_my_projects.png' width=800>\n",
        "5. Click on the **View Project** button for the project you want to submit.\n",
        "   <img src='https://student-datasets-bucket.s3.ap-south-1.amazonaws.com/images/project-share-images/7_view_project.png' width=800>\n",
        "6. Click on the **Submit Project Here** button.\n",
        "   <img src='https://student-datasets-bucket.s3.ap-south-1.amazonaws.com/images/project-share-images/8_submit_project.png' width=800>\n",
        "7. Past the link to the project named as **YYYY-MM-DD_StudentName_Project13** in the URL box and then click on the **Submit** button.\n",
        "   <img src='https://student-datasets-bucket.s3.ap-south-1.amazonaws.com/images/project-share-images/9_enter_project_url.png' width=800>\n"
      ]
    },
    {
      "cell_type": "markdown",
      "metadata": {
        "id": "oc4S9JToIZhg"
      },
      "source": [
        "---"
      ]
    }
  ]
}